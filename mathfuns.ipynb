{
 "cells": [
  {
   "cell_type": "markdown",
   "metadata": {
    "colab_type": "text",
    "id": "qy-DzCkHLZ76"
   },
   "source": [
    "# Task 1\n",
    "## Python Functions: mean, sum, variance, standardDeviation, max, min, median\n",
    "\n",
    "In this task, you are required to implement simple mathematical functions. Afterwards, apply the implemented function on list of values that represents the scores obtained by students in a certain exam.\n"
   ]
  },
  {
   "cell_type": "markdown",
   "metadata": {
    "colab_type": "text",
    "id": "2DLr3z0QMTO6"
   },
   "source": [
    "## Summation function\n",
    "\n",
    "Given a list of values stored in `l`, return the summation of the values.\n",
    "\n",
    "$$ Sum(x) = \\Sigma x_i $$\n",
    "\n",
    "### Solution"
   ]
  },
  {
   "cell_type": "code",
   "execution_count": 11,
   "metadata": {
    "colab": {},
    "colab_type": "code",
    "id": "rFif71ZHMgJ5"
   },
   "outputs": [
    {
     "name": "stdout",
     "output_type": "stream",
     "text": [
      "90\n"
     ]
    }
   ],
   "source": [
    "def summation(l): \n",
    " sum = 0\n",
    " for num in l :\n",
    "    sum += num\n",
    " return(sum)\n",
    "print (summation ([15, 30, 45]))\n"
   ]
  },
  {
   "cell_type": "markdown",
   "metadata": {
    "colab_type": "text",
    "id": "UlnCOlwjMxAG"
   },
   "source": [
    "## Mean function\n",
    "\n",
    "Given a list of values stored in `l`, return the mean value.\n",
    "\n",
    " $$ \\bar{x} = \\frac{\\Sigma x_i}{n} $$\n",
    "\n",
    "**Hint: use the already implemented function `summation(l)`**\n",
    "\n",
    "### Solution"
   ]
  },
  {
   "cell_type": "code",
   "execution_count": 75,
   "metadata": {
    "colab": {},
    "colab_type": "code",
    "id": "CqFRo9c0NAZf"
   },
   "outputs": [
    {
     "name": "stdout",
     "output_type": "stream",
     "text": [
      "30.0\n"
     ]
    }
   ],
   "source": [
    "def mean(l):\n",
    "  return(summation(l)/(len(l)))\n",
    "print (mean ([15,30,45]))"
   ]
  },
  {
   "cell_type": "markdown",
   "metadata": {
    "colab_type": "text",
    "id": "4rPVX3ofNJd2"
   },
   "source": [
    "\n",
    "## Variance function\n",
    "\n",
    "Given a list of values stored in `l`, return their variance.\n",
    "\n",
    " $$\\sigma^2_x=\\frac{(x_i - \\bar{x} )^2}{n}$$\n",
    "\n",
    "**Hint: use the already implemented function `mean(l)`**"
   ]
  },
  {
   "cell_type": "code",
   "execution_count": 74,
   "metadata": {
    "colab": {},
    "colab_type": "code",
    "id": "Sp6DTBMUPBFF"
   },
   "outputs": [
    {
     "name": "stdout",
     "output_type": "stream",
     "text": [
      "150.0\n"
     ]
    }
   ],
   "source": [
    "def variance(l):\n",
    "  sum = 0\n",
    "  for num in l :\n",
    "    sum = sum + (num - mean(l))**2\n",
    "  return(sum / (len(l)))\n",
    "print (variance ([15,30,45]))"
   ]
  },
  {
   "cell_type": "markdown",
   "metadata": {
    "colab_type": "text",
    "id": "rV5jynOrPZVt"
   },
   "source": [
    "## Standard Deviation function\n",
    "\n",
    "Given a list of values stored in `l`, return their standard deviation.\n",
    "\n",
    "$$\\sigma_x = \\sqrt{ \\frac{(x_i - \\bar{x})^2}{n}}$$\n",
    "\n",
    "**Hint: use the `variance(l)` function**"
   ]
  },
  {
   "cell_type": "code",
   "execution_count": 79,
   "metadata": {
    "colab": {},
    "colab_type": "code",
    "id": "Tt4YzH1CQP3Y"
   },
   "outputs": [
    {
     "name": "stdout",
     "output_type": "stream",
     "text": [
      "12.24744871391589\n"
     ]
    }
   ],
   "source": [
    "import math\n",
    "# use math.sqrt() function to evaluate the square root.\n",
    "\n",
    "def standard_dev(l):\n",
    " return math.sqrt(variance(l))\n",
    "print (standard_dev([15,30,45]))\n"
   ]
  },
  {
   "cell_type": "markdown",
   "metadata": {
    "colab_type": "text",
    "id": "vatCK2sQQnkj"
   },
   "source": [
    "## Median function\n",
    "\n",
    "Find the median value in the list `l`.\n",
    "\n",
    "**Hint: use [`sorted`](https://docs.python.org/3/howto/sorting.html) function**"
   ]
  },
  {
   "cell_type": "code",
   "execution_count": 1,
   "metadata": {
    "colab": {},
    "colab_type": "code",
    "id": "30I1NrPmSE1V"
   },
   "outputs": [
    {
     "name": "stdout",
     "output_type": "stream",
     "text": [
      "30\n"
     ]
    }
   ],
   "source": [
    "def median(l):\n",
    "    list = sorted(l)\n",
    "    length = len(l)\n",
    "    index =(len(l)-1)//2\n",
    "    if(length % 2 ==0):\n",
    "     return ((list[index]+list[index+1])/2)\n",
    "    else:\n",
    "     return list[index]\n",
    "print(median([15,30,45]))"
   ]
  },
  {
   "cell_type": "markdown",
   "metadata": {
    "colab_type": "text",
    "id": "VP0CNGOGSN6_"
   },
   "source": [
    "## Min and Max functions\n",
    "\n",
    "Implement functions `minimum` and `maximum` that returns the minimum and maximum of a given list, respectively.\n"
   ]
  },
  {
   "cell_type": "code",
   "execution_count": 72,
   "metadata": {
    "colab": {},
    "colab_type": "code",
    "id": "lLY4zB-YSdZx"
   },
   "outputs": [
    {
     "name": "stdout",
     "output_type": "stream",
     "text": [
      "15\n",
      "45\n"
     ]
    }
   ],
   "source": [
    "def minimum(l):\n",
    "  return(min([15,30,45]))\n",
    "print(minimum([15,30,45]))\n",
    "\n",
    "def maximum(l):\n",
    "  return(max([15,30,45]))\n",
    "print(maximum([15,30,45]))"
   ]
  },
  {
   "cell_type": "markdown",
   "metadata": {
    "colab_type": "text",
    "id": "sUDmjHzFSnFx"
   },
   "source": [
    "# Testing our implemeted functions\n",
    "\n",
    "## Loading grades\n",
    "\n",
    "The following lines will load the grades into a list called `grades`. Nevermind if the next lines don't seem understandable."
   ]
  },
  {
   "cell_type": "code",
   "execution_count": 0,
   "metadata": {
    "colab": {
     "base_uri": "https://localhost:8080/",
     "height": 34
    },
    "colab_type": "code",
    "id": "i9H6omkKrbZZ",
    "outputId": "693738db-d593-4fdd-f10f-3a657366dec0"
   },
   "outputs": [
    {
     "data": {
      "text/plain": [
       "190.91579346042167"
      ]
     },
     "execution_count": 31,
     "metadata": {
      "tags": []
     },
     "output_type": "execute_result"
    }
   ],
   "source": [
    "import pandas as pd\n",
    "url = 'https://raw.githubusercontent.com/sbme-tutorials/sbe2016-measurements-lab/master/mt-grades.csv'\n",
    "df1 = pd.read_csv(url)\n",
    "grades = list(df1.values)\n",
    "\n",
    "np.var(grades)\n"
   ]
  },
  {
   "cell_type": "markdown",
   "metadata": {
    "colab_type": "text",
    "id": "iLUujU4-TRNn"
   },
   "source": [
    "## Comparing the results with the function of Numpy\n",
    "\n",
    "Run the following cell to check the validity of your implemented methods."
   ]
  },
  {
   "cell_type": "code",
   "execution_count": 90,
   "metadata": {
    "colab": {
     "base_uri": "https://localhost:8080/",
     "height": 382
    },
    "colab_type": "code",
    "id": "3-1Sld59Llbc",
    "outputId": "ebce2e32-1ba8-495d-ce2c-38fff3751d68"
   },
   "outputs": [
    {
     "name": "stdout",
     "output_type": "stream",
     "text": [
      "Our summation method output:90\n",
      "Numpy summation method output:90\n",
      "----\n",
      "Our mean method output:30.0\n",
      "Numpy mean method output:30.0\n",
      "----\n",
      "Our variance method output:150.0\n",
      "Numpy variance method output:150.0\n",
      "----\n",
      "Our standard deviation method output:12.24744871391589\n",
      "Numpy standard deviation output:12.24744871391589\n",
      "----\n",
      "Our median method output:[15, 30, 45]\n",
      "Numpy median method output:30.0\n",
      "----\n",
      "Our maximum method output:45\n",
      "Numpy maximum method output:45\n",
      "----\n",
      "Our minimum method output:15\n",
      "Numpy minimum method output:15\n",
      "----\n"
     ]
    }
   ],
   "source": [
    "import numpy as np\n",
    "grades = ([15,30,45])\n",
    "\n",
    "print(\"Our summation method output:{}\".format( summation( grades )))\n",
    "print(\"Numpy summation method output:{}\".format( np.sum( grades )))\n",
    "print(\"----\")\n",
    "\n",
    "print(\"Our mean method output:{}\".format( mean( grades )))\n",
    "print(\"Numpy mean method output:{}\".format( np.mean( grades )))\n",
    "print(\"----\")\n",
    "\n",
    "print(\"Our variance method output:{}\".format( variance( grades )))\n",
    "print(\"Numpy variance method output:{}\".format( np.var( grades )))\n",
    "print(\"----\")\n",
    "\n",
    "print(\"Our standard deviation method output:{}\".format( standard_dev( grades )))\n",
    "print(\"Numpy standard deviation output:{}\".format( np.std( grades )))\n",
    "print(\"----\")\n",
    "\n",
    "print(\"Our median method output:{}\".format( median( grades )))\n",
    "print(\"Numpy median method output:{}\".format( np.median( grades )))\n",
    "print(\"----\")\n",
    "\n",
    "print(\"Our maximum method output:{}\".format( maximum( grades )))\n",
    "print(\"Numpy maximum method output:{}\".format( np.max( grades )))\n",
    "print(\"----\")\n",
    "\n",
    "print(\"Our minimum method output:{}\".format( minimum( grades )))\n",
    "print(\"Numpy minimum method output:{}\".format( np.min( grades )))\n",
    "print(\"----\")\n"
   ]
  },
  {
   "cell_type": "code",
   "execution_count": null,
   "metadata": {},
   "outputs": [],
   "source": []
  },
  {
   "cell_type": "code",
   "execution_count": null,
   "metadata": {},
   "outputs": [],
   "source": []
  },
  {
   "cell_type": "code",
   "execution_count": null,
   "metadata": {},
   "outputs": [],
   "source": []
  },
  {
   "cell_type": "code",
   "execution_count": null,
   "metadata": {},
   "outputs": [],
   "source": []
  },
  {
   "cell_type": "code",
   "execution_count": null,
   "metadata": {},
   "outputs": [],
   "source": []
  }
 ],
 "metadata": {
  "colab": {
   "name": "mathfuns.ipynb",
   "provenance": [],
   "version": "0.3.2"
  },
  "kernelspec": {
   "display_name": "Python 3",
   "language": "python",
   "name": "python3"
  },
  "language_info": {
   "codemirror_mode": {
    "name": "ipython",
    "version": 3
   },
   "file_extension": ".py",
   "mimetype": "text/x-python",
   "name": "python",
   "nbconvert_exporter": "python",
   "pygments_lexer": "ipython3",
   "version": "3.7.1"
  }
 },
 "nbformat": 4,
 "nbformat_minor": 1
}
